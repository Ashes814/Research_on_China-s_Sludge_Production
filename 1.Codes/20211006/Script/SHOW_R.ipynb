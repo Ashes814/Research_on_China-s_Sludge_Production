{
 "cells": [
  {
   "cell_type": "code",
   "execution_count": 1,
   "metadata": {},
   "outputs": [],
   "source": [
    "library(ggplot2)\n",
    "options(scipen=200)\n",
    "library(gridExtra)\n",
    "library(grid)\n"
   ]
  },
  {
   "cell_type": "code",
   "execution_count": 8,
   "metadata": {},
   "outputs": [
    {
     "name": "stderr",
     "output_type": "stream",
     "text": [
      "`geom_smooth()` using formula 'y ~ x'\n",
      "\n",
      "Warning message:\n",
      "\"Removed 7 rows containing non-finite values (stat_smooth).\"\n",
      "Warning message:\n",
      "\"Removed 7 rows containing missing values (geom_point).\"\n",
      "`geom_smooth()` using formula 'y ~ x'\n",
      "\n",
      "Warning message:\n",
      "\"Removed 7 rows containing non-finite values (stat_smooth).\"\n",
      "Warning message:\n",
      "\"Removed 7 rows containing missing values (geom_point).\"\n",
      "`geom_smooth()` using formula 'y ~ s(x, bs = \"cs\")'\n",
      "\n",
      "Warning message:\n",
      "\"Removed 7 rows containing non-finite values (stat_smooth).\"\n",
      "Warning message:\n",
      "\"Removed 7 rows containing missing values (geom_point).\"\n",
      "`geom_smooth()` using formula 'y ~ x'\n",
      "\n",
      "Warning message:\n",
      "\"Removed 7 rows containing non-finite values (stat_smooth).\"\n",
      "Warning message:\n",
      "\"Removed 7 rows containing missing values (geom_point).\"\n"
     ]
    },
    {
     "data": {
      "text/html": [
       "<strong>png:</strong> 2"
      ],
      "text/latex": [
       "\\textbf{png:} 2"
      ],
      "text/markdown": [
       "**png:** 2"
      ],
      "text/plain": [
       "png \n",
       "  2 "
      ]
     },
     "metadata": {},
     "output_type": "display_data"
    }
   ],
   "source": [
    "Sludge = read.csv(file = 'CITY.csv')\n",
    "Sludge_2 = Sludge$SLUDGE/1000\n",
    "WWP_2 = Sludge$WWP/10\n",
    "cor = cor.test(Sludge_2,WWP_2)$estimate\n",
    "p_value = cor.test(Sludge_2,WWP_2)$p.value\n",
    "\n",
    "p3 = ggplot(data = Sludge, aes(x = WWP_2, y = Sludge_2))+\n",
    "  geom_point(size = 1.5,color = 'blue',shape = 1)+\n",
    "  geom_abline(slope = 1/20,intercept = 0,linetype = 'dashed',size = 0.5)+\n",
    "  theme_bw()+\n",
    "  xlab('Wastewater treatments (100 thousands cubic meter)')+\n",
    "  ylab('Sludge generation (Kts)')\n",
    "\n",
    "p31 = p3+geom_smooth(method = 'lm',color = '#ED0000FF',fill = '#ED0000FF',alpha = 0.25)+\n",
    "  ggtitle(\"(a) Fit Method = lm\")\n",
    "p32 = p3+geom_smooth(method = 'glm',color = '#ED0000FF',fill = '#ED0000FF',alpha = 0.25)+\n",
    "  ggtitle(\"(b) Fit Method = glm\")\n",
    "p33 = p3+geom_smooth(method = 'gam',color = '#ED0000FF',fill = '#ED0000FF',alpha = 0.25)+\n",
    "  ggtitle(\"(c) Fit Method = gam\")\n",
    "p34 = p3+geom_smooth(method = 'loess',color = '#ED0000FF',fill = '#ED0000FF',alpha = 0.25)+\n",
    "  ggtitle(\"(d) Fit Method = loess\")\n",
    "\n",
    "\n",
    "labels = data.frame(\n",
    "  x = rep(0,80),\n",
    "  y = rep(c(15,12),4),\n",
    "  labels = rep(c(paste0('Pearson = ',round(cor,2)),\n",
    "                 paste0('p-value = ',formatC(p_value))),4)\n",
    ")\n",
    "add_label = geom_text(data = labels,aes(x = x,y = y,label = labels),size =4,hjust = 0)\n",
    "p41 = p31+add_label\n",
    "p42 = p32+add_label\n",
    "p43 = p33+add_label\n",
    "p44 = p34+add_label\n",
    "\n",
    "png('plot4.png',\n",
    "    height = 20,\n",
    "    width = 20,\n",
    "    units = 'cm',\n",
    "    res = 800)\n",
    "grid.arrange(p41,p42,p43,p44,\n",
    "             ncol= 2,nrow = 2)\n",
    "dev.off()"
   ]
  },
  {
   "cell_type": "code",
   "execution_count": 4,
   "metadata": {
    "jupyter": {
     "source_hidden": true
    }
   },
   "outputs": [
    {
     "ename": "ERROR",
     "evalue": "Error in FUN(left, right): 二进列运算符中有非数值参数\n",
     "output_type": "error",
     "traceback": [
      "Error in FUN(left, right): 二进列运算符中有非数值参数\nTraceback:\n",
      "1. grid.arrange(p31, p32, p33, p34, ncol = 2, nrow = 2)",
      "2. arrangeGrob(...)",
      "3. lapply(grobs[toconv], ggplot2::ggplotGrob)",
      "4. FUN(X[[i]], ...)",
      "5. ggplot_gtable(ggplot_build(x))",
      "6. ggplot_build(x)",
      "7. ggplot_build.ggplot(x)",
      "8. by_layer(function(l, d) l$compute_aesthetics(d, plot))",
      "9. f(l = layers[[i]], d = data[[i]])",
      "10. l$compute_aesthetics(d, plot)",
      "11. f(..., self = self)",
      "12. scales_add_defaults(plot$scales, data, aesthetics, plot$plot_env)",
      "13. lapply(aesthetics[new_aesthetics], eval_tidy, data = data)",
      "14. FUN(X[[i]], ...)",
      "15. Ops.data.frame(Sludge, 10000)",
      "16. eval(f)",
      "17. eval(f)"
     ]
    }
   ],
   "source": [
    "\n",
    "\n",
    "\n",
    "\n",
    "#fitting\n",
    "p3 = ggplot(data = Sludge, aes(x = CCF/1000, y = Sludge/10000))+\n",
    "  geom_point(size = 1.5,color = 'blue',shape = 1)+\n",
    "  geom_abline(slope = 1/20,intercept = 0,linetype = 'dashed',size = 0.5)+\n",
    "  theme_bw()+\n",
    "  xlab('食品含碳量(kg)')+\n",
    "  ylab('干污泥产量 (万吨)')\n",
    "\n",
    "p31 = p3+geom_smooth(method = 'lm',color = '#ED0000FF',fill = '#ED0000FF',alpha = 0.25)+\n",
    "  ggtitle(\"(a) 拟合方法 = lm\")\n",
    "p32 = p3+geom_smooth(method = 'glm',color = '#ED0000FF',fill = '#ED0000FF',alpha = 0.25)+\n",
    "  ggtitle(\"(b) 拟合方法 = glm\")\n",
    "p33 = p3+geom_smooth(method = 'gam',color = '#ED0000FF',fill = '#ED0000FF',alpha = 0.25)+\n",
    "  ggtitle(\"(c) 拟合方法 = gam\")\n",
    "p34 = p3+geom_smooth(method = 'loess',color = '#ED0000FF',fill = '#ED0000FF',alpha = 0.25)+\n",
    "  ggtitle(\"(d) 拟合方法 = loess\")\n",
    "\n",
    "library(gridExtra)\n",
    "library(grid)\n",
    "\n",
    "png('plot3.png',\n",
    "    height = 20,\n",
    "    width = 20,\n",
    "    units = 'cm',\n",
    "    res = 800)\n",
    "grid.arrange(p31,p32,p33,p34,\n",
    "             ncol= 2,nrow = 2)\n",
    "dev.off()\n",
    "\n",
    "\n",
    "labels = data.frame(\n",
    "  x = rep(0,8),\n",
    "  y = rep(c(15,12),4),\n",
    "  labels = rep(c(paste0('Pearson = ',round(cor,2)),\n",
    "                 paste0('p-value = ',formatC(p_value))),4)\n",
    ")\n",
    "add_label = geom_text(data = labels,aes(x = x,y = y,label = labels),size =4,hjust = 0)\n",
    "p41 = p31+add_label\n",
    "p42 = p32+add_label\n",
    "p43 = p33+add_label\n",
    "p44 = p34+add_label\n",
    "\n",
    "png('plot4.png',\n",
    "    height = 20,\n",
    "    width = 20,\n",
    "    units = 'cm',\n",
    "    res = 800)\n",
    "grid.arrange(p41,p42,p43,p44,\n",
    "             ncol= 2,nrow = 2)\n",
    "dev.off()"
   ]
  },
  {
   "cell_type": "code",
   "execution_count": null,
   "metadata": {},
   "outputs": [],
   "source": []
  }
 ],
 "metadata": {
  "kernelspec": {
   "display_name": "R",
   "language": "R",
   "name": "ir"
  },
  "language_info": {
   "codemirror_mode": "r",
   "file_extension": ".r",
   "mimetype": "text/x-r-source",
   "name": "R",
   "pygments_lexer": "r",
   "version": "4.1.1"
  }
 },
 "nbformat": 4,
 "nbformat_minor": 4
}
