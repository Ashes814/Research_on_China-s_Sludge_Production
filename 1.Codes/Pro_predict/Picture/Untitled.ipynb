{
 "cells": [
  {
   "cell_type": "code",
   "execution_count": 1,
   "metadata": {},
   "outputs": [],
   "source": [
    "import requests\n",
    "import json\n",
    "import codecs\n",
    "\n",
    "import urllib\n"
   ]
  },
  {
   "cell_type": "code",
   "execution_count": 21,
   "metadata": {},
   "outputs": [],
   "source": [
    "url = 'https://data.sh.gov.cn/interface/1661/9579'\n",
    "r = requests.Request(url,params={\"projectname\":\"SHNU\",  \"applyunit\":\"SHNU\",  \"limit\":20,  \"offset\":0 })"
   ]
  },
  {
   "cell_type": "code",
   "execution_count": 29,
   "metadata": {},
   "outputs": [
    {
     "ename": "AttributeError",
     "evalue": "module 'urllib' has no attribute 'urlopen'",
     "output_type": "error",
     "traceback": [
      "\u001b[1;31m---------------------------------------------------------------------------\u001b[0m",
      "\u001b[1;31mAttributeError\u001b[0m                            Traceback (most recent call last)",
      "\u001b[1;32m<ipython-input-29-c24456ed2aed>\u001b[0m in \u001b[0;36m<module>\u001b[1;34m\u001b[0m\n\u001b[1;32m----> 1\u001b[1;33m \u001b[0murllib\u001b[0m\u001b[1;33m.\u001b[0m\u001b[0murlopen\u001b[0m\u001b[1;33m(\u001b[0m\u001b[0mr\u001b[0m\u001b[1;33m)\u001b[0m\u001b[1;33m\u001b[0m\u001b[1;33m\u001b[0m\u001b[0m\n\u001b[0m",
      "\u001b[1;31mAttributeError\u001b[0m: module 'urllib' has no attribute 'urlopen'"
     ]
    }
   ],
   "source": [
    "urllib.urlopen(r)"
   ]
  },
  {
   "cell_type": "code",
   "execution_count": 25,
   "metadata": {},
   "outputs": [
    {
     "ename": "SyntaxError",
     "evalue": "invalid syntax (<ipython-input-25-6afa8e07b003>, line 1)",
     "output_type": "error",
     "traceback": [
      "\u001b[1;36m  File \u001b[1;32m\"<ipython-input-25-6afa8e07b003>\"\u001b[1;36m, line \u001b[1;32m1\u001b[0m\n\u001b[1;33m    curl -X POST https://data.sh.gov.cn/interface/1661/8416 \\\u001b[0m\n\u001b[1;37m               ^\u001b[0m\n\u001b[1;31mSyntaxError\u001b[0m\u001b[1;31m:\u001b[0m invalid syntax\n"
     ]
    }
   ],
   "source": [
    "curl -X POST https://data.sh.gov.cn/interface/1661/8416 \\\n",
    " -H 'content-type: application/json' \\\n",
    " -H 'cache-control: no-cache' \\\n",
    " -H 'token: afb86fa377f840f55d3eccb35087d14f' \\\n",
    " -d '{ \t\"projectname\":\"SHNU\", \t\"applyunit\":\"SHNU\", \t\"limit\":20, \t\"offset\":0 }'\n"
   ]
  },
  {
   "cell_type": "code",
   "execution_count": 21,
   "metadata": {},
   "outputs": [
    {
     "name": "stdout",
     "output_type": "stream",
     "text": [
      "{\"code\":\"000000\",\"message\":\"成功\",\"data\":\"{\\\"state\\\":true,\\\"message\\\":\\\"\\\",\\\"total\\\":0,\\\"data\\\":null}\\n\"}\n"
     ]
    }
   ],
   "source": [
    "import requests,json\n",
    "url=\"https://data.sh.gov.cn/interface/1661/8416\"\n",
    "headers={'Content-Type':'application/json;charset=UTF-8', 'token':'afb86fa377f840f55d3eccb35087d14f'}\n",
    "request_param={\"projectname\":\"SHNU\",  \"applyunit\":'徐汇区为老助餐服务点',  \"limit\":200,  \"offset\":0}\n",
    "response=requests.post(url,data=json.dumps(request_param), headers=headers)\n",
    "print(response.text)"
   ]
  },
  {
   "cell_type": "code",
   "execution_count": 24,
   "metadata": {},
   "outputs": [
    {
     "name": "stdout",
     "output_type": "stream",
     "text": [
      "2007\n",
      "4028049\n",
      "8084294343\n",
      "16225178746401\n",
      "32563933744026807\n",
      "65355815024261801649\n",
      "131169120753693435909543\n",
      "263256425352662725870452801\n",
      "528355645682794090821998771607\n",
      "1060409780885367740279751534615249\n",
      "2128242430236933054741461329972804743\n",
      "4271382557485524640866112889255419119201\n",
      "8572664792873447954218288568735626172236407\n",
      "17205338239297010044116105157452401727678468849\n",
      "34531113846269099158541023051006970267450686979943\n",
      "69303945489462082011191833263370989326773528768745601\n",
      "139093018597350398596462009359585575578834472238872421207\n",
      "279159688324882249983099252784688250186720785783416949362449\n",
      "560273494468038675716080200338869318124748617067317817370435143\n"
     ]
    }
   ],
   "source": [
    "for i in range(1,20,1):\n",
    "    print(pow(2007,i))"
   ]
  },
  {
   "cell_type": "code",
   "execution_count": null,
   "metadata": {},
   "outputs": [],
   "source": []
  }
 ],
 "metadata": {
  "kernelspec": {
   "display_name": "Python 3",
   "language": "python",
   "name": "python3"
  },
  "language_info": {
   "codemirror_mode": {
    "name": "ipython",
    "version": 3
   },
   "file_extension": ".py",
   "mimetype": "text/x-python",
   "name": "python",
   "nbconvert_exporter": "python",
   "pygments_lexer": "ipython3",
   "version": "3.7.6"
  }
 },
 "nbformat": 4,
 "nbformat_minor": 4
}
