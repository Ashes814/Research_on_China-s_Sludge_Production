{
 "cells": [
  {
   "cell_type": "markdown",
   "metadata": {},
   "source": [
    "# 这个文件用于整理污泥项目的结果数据"
   ]
  },
  {
   "cell_type": "code",
   "execution_count": 1,
   "metadata": {},
   "outputs": [],
   "source": [
    "#导入第三方库\n",
    "import pandas as pd\n",
    "import numpy as np\n",
    "import matplotlib.pyplot as plt\n",
    "import seaborn as sns\n",
    "import matplotlib"
   ]
  },
  {
   "cell_type": "markdown",
   "metadata": {},
   "source": [
    "# 1.2017年全国污泥产量"
   ]
  },
  {
   "cell_type": "markdown",
   "metadata": {},
   "source": [
    "1.1. 2017年，全国污泥产量1049.38万吨，约2006年（560万吨）的1.88倍，年平均增速7.25%，2010年前年均增长3%-5%，之后约为8%-10%，呈上升趋势\n",
    "1.2. 地级市——2017年，北京市污泥产量达137.9万吨，为各地级市之最，贡献率达全国污泥产量的13.1%，上海市 （3.3%），长沙市 （3.1%），杭州市 （2.8%），绍兴市 （2.6%），苏州市 （2.3%），青岛市 （2.2%），深圳市 （2.1%），广州市 （2.0%），郑州市 （1.7%）分别位于第二至第十\n",
    "\n",
    "1.3. 2017年，我国人均污泥产量约为8kg/yr，约为同期欧盟的一半，不同地级市中，江门市，北京市，绍兴市，克拉玛依市，太原市，长沙市，东营市，大连市，包头市，威海市是我国人均污泥产量最大的十座城市，其人均污泥产量分别达到67.7，66.0，61.5，53.9，51.4，50.0，39.8，36.5，36.2，36.0 kg/y"
   ]
  },
  {
   "cell_type": "markdown",
   "metadata": {},
   "source": [
    "## 2. 未来污泥产量\n",
    "\n",
    "2.1 SSP5情境下再2060年污泥产量最高，为25.25Mt，SSP3与SSP4为24.19Mt与23.13Mt，分别位居第二位与第三位。SSP1与SSP2情境污泥峰值产量相近，分别为20.56Mt与21.56Mt\n",
    "\n",
    "2.2 至2060年，我国污泥产量相较于2017年（10.49 Mt）将增加100%-150%。其中，SSP1情境增幅最小，2060年产量为2017年的1.95倍，污泥减排压力最小。SSP5情境为2.41倍，污泥压力最大。"
   ]
  },
  {
   "cell_type": "code",
   "execution_count": null,
   "metadata": {},
   "outputs": [],
   "source": []
  }
 ],
 "metadata": {
  "kernelspec": {
   "display_name": "Python 3",
   "language": "python",
   "name": "python3"
  },
  "language_info": {
   "codemirror_mode": {
    "name": "ipython",
    "version": 3
   },
   "file_extension": ".py",
   "mimetype": "text/x-python",
   "name": "python",
   "nbconvert_exporter": "python",
   "pygments_lexer": "ipython3",
   "version": "3.7.6"
  }
 },
 "nbformat": 4,
 "nbformat_minor": 4
}
