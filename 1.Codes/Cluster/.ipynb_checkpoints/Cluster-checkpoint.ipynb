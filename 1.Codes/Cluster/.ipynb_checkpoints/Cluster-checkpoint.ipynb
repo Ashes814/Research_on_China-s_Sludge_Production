{
 "cells": [
  {
   "cell_type": "code",
   "execution_count": 36,
   "metadata": {},
   "outputs": [],
   "source": [
    "import pandas as pd\n",
    "import numpy as np\n",
    "import matplotlib.pyplot as plt\n",
    "import seaborn as sns\n",
    "from sklearn.cluster import KMeans"
   ]
  },
  {
   "cell_type": "code",
   "execution_count": 39,
   "metadata": {},
   "outputs": [],
   "source": [
    "Cluster = pd.ExcelFile('Cluster.xlsx').parse('Sheet1')\n",
    "\n",
    "X = Cluster.drop(['EPROVINCE','SLUDGE_2017'],axis=1)\n",
    "X = (X-X.min())/(X.max()-X.min())\n",
    "\n",
    "kmeans = KMeans(n_clusters=4, random_state=2)\n",
    "result = kmeans.fit_predict(X)\n",
    "\n",
    "Cluster['cator'] = result\n",
    "\n",
    "Cluster = Cluster.sort_values(by='cator')\n"
   ]
  },
  {
   "cell_type": "code",
   "execution_count": 44,
   "metadata": {},
   "outputs": [],
   "source": [
    "cat = pd.read_csv('Cluster_results.csv')\n",
    "\n",
    "final = pd.read_csv('final_result.csv')\n",
    "final = final.merge(cat, on='EPROVINCE', how='inner')\n",
    "\n",
    "final.to_csv('final_result_cluster.csv', encoding='utf_8_sig')"
   ]
  },
  {
   "cell_type": "code",
   "execution_count": null,
   "metadata": {},
   "outputs": [],
   "source": []
  }
 ],
 "metadata": {
  "kernelspec": {
   "display_name": "Python 3",
   "language": "python",
   "name": "python3"
  },
  "language_info": {
   "codemirror_mode": {
    "name": "ipython",
    "version": 3
   },
   "file_extension": ".py",
   "mimetype": "text/x-python",
   "name": "python",
   "nbconvert_exporter": "python",
   "pygments_lexer": "ipython3",
   "version": "3.7.6"
  }
 },
 "nbformat": 4,
 "nbformat_minor": 4
}
