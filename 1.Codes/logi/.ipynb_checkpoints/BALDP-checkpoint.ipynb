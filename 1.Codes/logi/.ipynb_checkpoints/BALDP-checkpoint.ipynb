{
 "cells": [
  {
   "cell_type": "code",
   "execution_count": 95,
   "metadata": {},
   "outputs": [],
   "source": [
    "import pandas as pd\n",
    "import numpy as np\n",
    "import matplotlib.pyplot as plt\n",
    "import seaborn as sns\n",
    "from sklearn.model_selection import train_test_split\n",
    "from sklearn.ensemble import RandomForestRegressor\n",
    "from sklearn.model_selection import GridSearchCV\n",
    "import matplotlib\n",
    "plt.rcParams['font.sans-serif']=['SimHei']    #指定默认字体 SimHei为黑体\n",
    "plt.rcParams['axes.unicode_minus']=False   #用来正常显示负号\n",
    "matplotlib.rcParams['font.family'] = 'SimHei'  \n",
    "matplotlib.rcParams['font.sans-serif'] = 'NSimSun,Times New Roman'\n",
    "from scipy.optimize import leastsq\n",
    "\n",
    "import numpy as np\n",
    "import matplotlib.pyplot as plt\n",
    "import math\n",
    "import pandas as pd\n",
    " \n",
    "import numpy as np\n",
    "import matplotlib.pyplot as plt\n",
    "from scipy.optimize import curve_fit\n"
   ]
  },
  {
   "cell_type": "code",
   "execution_count": 97,
   "metadata": {},
   "outputs": [],
   "source": [
    "def llogistic_increase_function(p, t) :\n",
    "    K, a, b = p\n",
    "    exp_value = np.exp(-1 * (t - b))\n",
    "    return K / (1 + exp_value)\n",
    "\n",
    "def err_f(p, t, y) :\n",
    "    return logistic_increase_function(p, t) - y"
   ]
  },
  {
   "cell_type": "code",
   "execution_count": 79,
   "metadata": {},
   "outputs": [
    {
     "name": "stdout",
     "output_type": "stream",
     "text": [
      "<class 'pandas.core.frame.DataFrame'>\n",
      "RangeIndex: 18 entries, 0 to 17\n",
      "Data columns (total 33 columns):\n",
      " #   Column  Non-Null Count  Dtype  \n",
      "---  ------  --------------  -----  \n",
      " 0   YEAR    18 non-null     int64  \n",
      " 1   全国      18 non-null     float64\n",
      " 2   北京      17 non-null     float64\n",
      " 3   天津      18 non-null     float64\n",
      " 4   河北      18 non-null     float64\n",
      " 5   山西      18 non-null     float64\n",
      " 6   内蒙古     18 non-null     float64\n",
      " 7   辽宁      18 non-null     float64\n",
      " 8   吉林      18 non-null     float64\n",
      " 9   黑龙江     18 non-null     float64\n",
      " 10  上海      16 non-null     float64\n",
      " 11  江苏      18 non-null     float64\n",
      " 12  浙江      18 non-null     float64\n",
      " 13  安徽      18 non-null     float64\n",
      " 14  福建      18 non-null     float64\n",
      " 15  江西      18 non-null     float64\n",
      " 16  山东      18 non-null     float64\n",
      " 17  河南      18 non-null     float64\n",
      " 18  湖北      18 non-null     float64\n",
      " 19  湖南      18 non-null     float64\n",
      " 20  广东      18 non-null     float64\n",
      " 21  广西      18 non-null     float64\n",
      " 22  海南      18 non-null     float64\n",
      " 23  重庆      18 non-null     float64\n",
      " 24  四川      18 non-null     float64\n",
      " 25  贵州      18 non-null     float64\n",
      " 26  云南      18 non-null     float64\n",
      " 27  西藏      18 non-null     float64\n",
      " 28  陕西      18 non-null     float64\n",
      " 29  甘肃      18 non-null     float64\n",
      " 30  青海      18 non-null     float64\n",
      " 31  宁夏      18 non-null     float64\n",
      " 32  新疆      18 non-null     float64\n",
      "dtypes: float64(32), int64(1)\n",
      "memory usage: 4.8 KB\n"
     ]
    },
    {
     "data": {
      "text/plain": [
       "None"
      ]
     },
     "metadata": {},
     "output_type": "display_data"
    },
    {
     "data": {
      "text/html": [
       "<div>\n",
       "<style scoped>\n",
       "    .dataframe tbody tr th:only-of-type {\n",
       "        vertical-align: middle;\n",
       "    }\n",
       "\n",
       "    .dataframe tbody tr th {\n",
       "        vertical-align: top;\n",
       "    }\n",
       "\n",
       "    .dataframe thead th {\n",
       "        text-align: right;\n",
       "    }\n",
       "</style>\n",
       "<table border=\"1\" class=\"dataframe\">\n",
       "  <thead>\n",
       "    <tr style=\"text-align: right;\">\n",
       "      <th></th>\n",
       "      <th>YEAR</th>\n",
       "      <th>全国</th>\n",
       "      <th>北京</th>\n",
       "      <th>天津</th>\n",
       "      <th>河北</th>\n",
       "      <th>山西</th>\n",
       "      <th>内蒙古</th>\n",
       "      <th>辽宁</th>\n",
       "      <th>吉林</th>\n",
       "      <th>黑龙江</th>\n",
       "      <th>...</th>\n",
       "      <th>重庆</th>\n",
       "      <th>四川</th>\n",
       "      <th>贵州</th>\n",
       "      <th>云南</th>\n",
       "      <th>西藏</th>\n",
       "      <th>陕西</th>\n",
       "      <th>甘肃</th>\n",
       "      <th>青海</th>\n",
       "      <th>宁夏</th>\n",
       "      <th>新疆</th>\n",
       "    </tr>\n",
       "  </thead>\n",
       "  <tbody>\n",
       "    <tr>\n",
       "      <th>0</th>\n",
       "      <td>2002</td>\n",
       "      <td>25972.55</td>\n",
       "      <td>1043.50</td>\n",
       "      <td>453.99</td>\n",
       "      <td>1073.13</td>\n",
       "      <td>667.82</td>\n",
       "      <td>664.80</td>\n",
       "      <td>1660.35</td>\n",
       "      <td>810.10</td>\n",
       "      <td>1299.89</td>\n",
       "      <td>...</td>\n",
       "      <td>437.90</td>\n",
       "      <td>1201.41</td>\n",
       "      <td>320.45</td>\n",
       "      <td>353.77</td>\n",
       "      <td>71.97</td>\n",
       "      <td>477.64</td>\n",
       "      <td>475.08</td>\n",
       "      <td>98.94</td>\n",
       "      <td>168.01</td>\n",
       "      <td>520.74</td>\n",
       "    </tr>\n",
       "    <tr>\n",
       "      <th>1</th>\n",
       "      <td>2003</td>\n",
       "      <td>28308.02</td>\n",
       "      <td>1180.10</td>\n",
       "      <td>487.47</td>\n",
       "      <td>1171.04</td>\n",
       "      <td>678.68</td>\n",
       "      <td>679.28</td>\n",
       "      <td>1694.59</td>\n",
       "      <td>850.53</td>\n",
       "      <td>1362.50</td>\n",
       "      <td>...</td>\n",
       "      <td>523.71</td>\n",
       "      <td>1357.37</td>\n",
       "      <td>348.05</td>\n",
       "      <td>410.50</td>\n",
       "      <td>72.43</td>\n",
       "      <td>508.28</td>\n",
       "      <td>478.33</td>\n",
       "      <td>101.84</td>\n",
       "      <td>206.13</td>\n",
       "      <td>564.78</td>\n",
       "    </tr>\n",
       "    <tr>\n",
       "      <th>2</th>\n",
       "      <td>2004</td>\n",
       "      <td>30406.19</td>\n",
       "      <td>1182.30</td>\n",
       "      <td>500.14</td>\n",
       "      <td>1248.39</td>\n",
       "      <td>674.95</td>\n",
       "      <td>699.30</td>\n",
       "      <td>1737.31</td>\n",
       "      <td>884.66</td>\n",
       "      <td>1417.55</td>\n",
       "      <td>...</td>\n",
       "      <td>514.28</td>\n",
       "      <td>1393.94</td>\n",
       "      <td>332.25</td>\n",
       "      <td>428.36</td>\n",
       "      <td>72.43</td>\n",
       "      <td>541.29</td>\n",
       "      <td>495.48</td>\n",
       "      <td>103.26</td>\n",
       "      <td>236.37</td>\n",
       "      <td>585.42</td>\n",
       "    </tr>\n",
       "    <tr>\n",
       "      <th>3</th>\n",
       "      <td>2005</td>\n",
       "      <td>32520.72</td>\n",
       "      <td>1200.00</td>\n",
       "      <td>530.00</td>\n",
       "      <td>1316.38</td>\n",
       "      <td>709.29</td>\n",
       "      <td>824.36</td>\n",
       "      <td>1779.94</td>\n",
       "      <td>942.87</td>\n",
       "      <td>1496.01</td>\n",
       "      <td>...</td>\n",
       "      <td>582.51</td>\n",
       "      <td>1442.93</td>\n",
       "      <td>371.86</td>\n",
       "      <td>472.37</td>\n",
       "      <td>74.80</td>\n",
       "      <td>561.65</td>\n",
       "      <td>507.44</td>\n",
       "      <td>105.92</td>\n",
       "      <td>248.94</td>\n",
       "      <td>595.50</td>\n",
       "    </tr>\n",
       "    <tr>\n",
       "      <th>4</th>\n",
       "      <td>2006</td>\n",
       "      <td>33659.76</td>\n",
       "      <td>1254.23</td>\n",
       "      <td>539.98</td>\n",
       "      <td>1416.97</td>\n",
       "      <td>733.86</td>\n",
       "      <td>830.09</td>\n",
       "      <td>1859.59</td>\n",
       "      <td>1013.19</td>\n",
       "      <td>1467.17</td>\n",
       "      <td>...</td>\n",
       "      <td>631.35</td>\n",
       "      <td>1272.88</td>\n",
       "      <td>404.65</td>\n",
       "      <td>542.26</td>\n",
       "      <td>78.00</td>\n",
       "      <td>628.56</td>\n",
       "      <td>523.82</td>\n",
       "      <td>109.45</td>\n",
       "      <td>269.37</td>\n",
       "      <td>673.87</td>\n",
       "    </tr>\n",
       "  </tbody>\n",
       "</table>\n",
       "<p>5 rows × 33 columns</p>\n",
       "</div>"
      ],
      "text/plain": [
       "   YEAR        全国       北京      天津       河北      山西     内蒙古       辽宁       吉林  \\\n",
       "0  2002  25972.55  1043.50  453.99  1073.13  667.82  664.80  1660.35   810.10   \n",
       "1  2003  28308.02  1180.10  487.47  1171.04  678.68  679.28  1694.59   850.53   \n",
       "2  2004  30406.19  1182.30  500.14  1248.39  674.95  699.30  1737.31   884.66   \n",
       "3  2005  32520.72  1200.00  530.00  1316.38  709.29  824.36  1779.94   942.87   \n",
       "4  2006  33659.76  1254.23  539.98  1416.97  733.86  830.09  1859.59  1013.19   \n",
       "\n",
       "       黑龙江  ...      重庆       四川      贵州      云南     西藏      陕西      甘肃  \\\n",
       "0  1299.89  ...  437.90  1201.41  320.45  353.77  71.97  477.64  475.08   \n",
       "1  1362.50  ...  523.71  1357.37  348.05  410.50  72.43  508.28  478.33   \n",
       "2  1417.55  ...  514.28  1393.94  332.25  428.36  72.43  541.29  495.48   \n",
       "3  1496.01  ...  582.51  1442.93  371.86  472.37  74.80  561.65  507.44   \n",
       "4  1467.17  ...  631.35  1272.88  404.65  542.26  78.00  628.56  523.82   \n",
       "\n",
       "       青海      宁夏      新疆  \n",
       "0   98.94  168.01  520.74  \n",
       "1  101.84  206.13  564.78  \n",
       "2  103.26  236.37  585.42  \n",
       "3  105.92  248.94  595.50  \n",
       "4  109.45  269.37  673.87  \n",
       "\n",
       "[5 rows x 33 columns]"
      ]
     },
     "metadata": {},
     "output_type": "display_data"
    },
    {
     "name": "stdout",
     "output_type": "stream",
     "text": [
      "<class 'pandas.core.frame.DataFrame'>\n",
      "RangeIndex: 18 entries, 0 to 17\n",
      "Data columns (total 33 columns):\n",
      " #   Column  Non-Null Count  Dtype  \n",
      "---  ------  --------------  -----  \n",
      " 0   YEAR    18 non-null     int64  \n",
      " 1   全国      18 non-null     float64\n",
      " 2   北京      18 non-null     float64\n",
      " 3   天津      18 non-null     float64\n",
      " 4   河北      18 non-null     float64\n",
      " 5   山西      18 non-null     float64\n",
      " 6   内蒙古     18 non-null     float64\n",
      " 7   辽宁      18 non-null     float64\n",
      " 8   吉林      18 non-null     float64\n",
      " 9   黑龙江     18 non-null     float64\n",
      " 10  上海      18 non-null     float64\n",
      " 11  江苏      18 non-null     float64\n",
      " 12  浙江      18 non-null     float64\n",
      " 13  安徽      18 non-null     float64\n",
      " 14  福建      18 non-null     float64\n",
      " 15  江西      18 non-null     float64\n",
      " 16  山东      18 non-null     float64\n",
      " 17  河南      18 non-null     float64\n",
      " 18  湖北      18 non-null     float64\n",
      " 19  湖南      18 non-null     float64\n",
      " 20  广东      18 non-null     float64\n",
      " 21  广西      18 non-null     float64\n",
      " 22  海南      18 non-null     float64\n",
      " 23  重庆      18 non-null     float64\n",
      " 24  四川      18 non-null     float64\n",
      " 25  贵州      18 non-null     float64\n",
      " 26  云南      18 non-null     float64\n",
      " 27  西藏      18 non-null     float64\n",
      " 28  陕西      18 non-null     float64\n",
      " 29  甘肃      18 non-null     float64\n",
      " 30  青海      18 non-null     float64\n",
      " 31  宁夏      18 non-null     float64\n",
      " 32  新疆      18 non-null     float64\n",
      "dtypes: float64(32), int64(1)\n",
      "memory usage: 4.8 KB\n"
     ]
    },
    {
     "data": {
      "text/plain": [
       "None"
      ]
     },
     "metadata": {},
     "output_type": "display_data"
    },
    {
     "data": {
      "text/html": [
       "<div>\n",
       "<style scoped>\n",
       "    .dataframe tbody tr th:only-of-type {\n",
       "        vertical-align: middle;\n",
       "    }\n",
       "\n",
       "    .dataframe tbody tr th {\n",
       "        vertical-align: top;\n",
       "    }\n",
       "\n",
       "    .dataframe thead th {\n",
       "        text-align: right;\n",
       "    }\n",
       "</style>\n",
       "<table border=\"1\" class=\"dataframe\">\n",
       "  <thead>\n",
       "    <tr style=\"text-align: right;\">\n",
       "      <th></th>\n",
       "      <th>YEAR</th>\n",
       "      <th>全国</th>\n",
       "      <th>北京</th>\n",
       "      <th>天津</th>\n",
       "      <th>河北</th>\n",
       "      <th>山西</th>\n",
       "      <th>内蒙古</th>\n",
       "      <th>辽宁</th>\n",
       "      <th>吉林</th>\n",
       "      <th>黑龙江</th>\n",
       "      <th>...</th>\n",
       "      <th>重庆</th>\n",
       "      <th>四川</th>\n",
       "      <th>贵州</th>\n",
       "      <th>云南</th>\n",
       "      <th>西藏</th>\n",
       "      <th>陕西</th>\n",
       "      <th>甘肃</th>\n",
       "      <th>青海</th>\n",
       "      <th>宁夏</th>\n",
       "      <th>新疆</th>\n",
       "    </tr>\n",
       "  </thead>\n",
       "  <tbody>\n",
       "    <tr>\n",
       "      <th>0</th>\n",
       "      <td>2002</td>\n",
       "      <td>173042.04</td>\n",
       "      <td>6169.6</td>\n",
       "      <td>8827.60</td>\n",
       "      <td>8363.55</td>\n",
       "      <td>2688.54</td>\n",
       "      <td>3560.53</td>\n",
       "      <td>8879.90</td>\n",
       "      <td>4466.48</td>\n",
       "      <td>5282.32</td>\n",
       "      <td>...</td>\n",
       "      <td>2671.06</td>\n",
       "      <td>7202.73</td>\n",
       "      <td>1904.10</td>\n",
       "      <td>2277.23</td>\n",
       "      <td>260.49</td>\n",
       "      <td>1940.32</td>\n",
       "      <td>2309.59</td>\n",
       "      <td>457.80</td>\n",
       "      <td>578.72</td>\n",
       "      <td>2261.02</td>\n",
       "    </tr>\n",
       "    <tr>\n",
       "      <th>1</th>\n",
       "      <td>2003</td>\n",
       "      <td>155286.25</td>\n",
       "      <td>6649.3</td>\n",
       "      <td>6372.97</td>\n",
       "      <td>6294.79</td>\n",
       "      <td>2254.08</td>\n",
       "      <td>2922.03</td>\n",
       "      <td>7502.99</td>\n",
       "      <td>3472.84</td>\n",
       "      <td>4282.48</td>\n",
       "      <td>...</td>\n",
       "      <td>2528.65</td>\n",
       "      <td>6232.10</td>\n",
       "      <td>1322.88</td>\n",
       "      <td>2055.04</td>\n",
       "      <td>220.19</td>\n",
       "      <td>2258.20</td>\n",
       "      <td>1729.82</td>\n",
       "      <td>464.04</td>\n",
       "      <td>476.70</td>\n",
       "      <td>1943.56</td>\n",
       "    </tr>\n",
       "    <tr>\n",
       "      <th>2</th>\n",
       "      <td>2004</td>\n",
       "      <td>218880.90</td>\n",
       "      <td>6790.3</td>\n",
       "      <td>9332.30</td>\n",
       "      <td>9575.03</td>\n",
       "      <td>3113.64</td>\n",
       "      <td>4031.89</td>\n",
       "      <td>9307.70</td>\n",
       "      <td>4817.01</td>\n",
       "      <td>5738.59</td>\n",
       "      <td>...</td>\n",
       "      <td>3752.46</td>\n",
       "      <td>8946.94</td>\n",
       "      <td>3183.74</td>\n",
       "      <td>2653.16</td>\n",
       "      <td>220.19</td>\n",
       "      <td>2919.25</td>\n",
       "      <td>2620.36</td>\n",
       "      <td>534.70</td>\n",
       "      <td>861.43</td>\n",
       "      <td>2940.29</td>\n",
       "    </tr>\n",
       "    <tr>\n",
       "      <th>3</th>\n",
       "      <td>2005</td>\n",
       "      <td>241056.00</td>\n",
       "      <td>6475.0</td>\n",
       "      <td>10889.00</td>\n",
       "      <td>10263.00</td>\n",
       "      <td>3352.00</td>\n",
       "      <td>4505.00</td>\n",
       "      <td>10519.00</td>\n",
       "      <td>5086.00</td>\n",
       "      <td>5918.00</td>\n",
       "      <td>...</td>\n",
       "      <td>4106.00</td>\n",
       "      <td>9656.00</td>\n",
       "      <td>3600.00</td>\n",
       "      <td>2952.00</td>\n",
       "      <td>279.00</td>\n",
       "      <td>3250.00</td>\n",
       "      <td>2722.00</td>\n",
       "      <td>554.00</td>\n",
       "      <td>956.00</td>\n",
       "      <td>2960.00</td>\n",
       "    </tr>\n",
       "    <tr>\n",
       "      <th>4</th>\n",
       "      <td>2006</td>\n",
       "      <td>261379.00</td>\n",
       "      <td>7523.0</td>\n",
       "      <td>11939.00</td>\n",
       "      <td>11359.00</td>\n",
       "      <td>4154.00</td>\n",
       "      <td>4779.00</td>\n",
       "      <td>10860.00</td>\n",
       "      <td>5608.00</td>\n",
       "      <td>6051.00</td>\n",
       "      <td>...</td>\n",
       "      <td>4897.00</td>\n",
       "      <td>10086.00</td>\n",
       "      <td>3045.00</td>\n",
       "      <td>3508.00</td>\n",
       "      <td>310.00</td>\n",
       "      <td>3947.00</td>\n",
       "      <td>2586.00</td>\n",
       "      <td>678.00</td>\n",
       "      <td>1051.00</td>\n",
       "      <td>3194.00</td>\n",
       "    </tr>\n",
       "  </tbody>\n",
       "</table>\n",
       "<p>5 rows × 33 columns</p>\n",
       "</div>"
      ],
      "text/plain": [
       "   YEAR         全国      北京        天津        河北       山西      内蒙古        辽宁  \\\n",
       "0  2002  173042.04  6169.6   8827.60   8363.55  2688.54  3560.53   8879.90   \n",
       "1  2003  155286.25  6649.3   6372.97   6294.79  2254.08  2922.03   7502.99   \n",
       "2  2004  218880.90  6790.3   9332.30   9575.03  3113.64  4031.89   9307.70   \n",
       "3  2005  241056.00  6475.0  10889.00  10263.00  3352.00  4505.00  10519.00   \n",
       "4  2006  261379.00  7523.0  11939.00  11359.00  4154.00  4779.00  10860.00   \n",
       "\n",
       "        吉林      黑龙江  ...       重庆        四川       贵州       云南      西藏  \\\n",
       "0  4466.48  5282.32  ...  2671.06   7202.73  1904.10  2277.23  260.49   \n",
       "1  3472.84  4282.48  ...  2528.65   6232.10  1322.88  2055.04  220.19   \n",
       "2  4817.01  5738.59  ...  3752.46   8946.94  3183.74  2653.16  220.19   \n",
       "3  5086.00  5918.00  ...  4106.00   9656.00  3600.00  2952.00  279.00   \n",
       "4  5608.00  6051.00  ...  4897.00  10086.00  3045.00  3508.00  310.00   \n",
       "\n",
       "        陕西       甘肃      青海       宁夏       新疆  \n",
       "0  1940.32  2309.59  457.80   578.72  2261.02  \n",
       "1  2258.20  1729.82  464.04   476.70  1943.56  \n",
       "2  2919.25  2620.36  534.70   861.43  2940.29  \n",
       "3  3250.00  2722.00  554.00   956.00  2960.00  \n",
       "4  3947.00  2586.00  678.00  1051.00  3194.00  \n",
       "\n",
       "[5 rows x 33 columns]"
      ]
     },
     "metadata": {},
     "output_type": "display_data"
    }
   ],
   "source": [
    "logistic_p0 = [60000, 25972.55, 50]\n",
    "\n",
    "BA = pd.read_csv('BA.csv', encoding = 'utf-8')\n",
    "LDP = pd.read_csv('LDP.csv', encoding = 'utf-8')\n",
    "display(BA.info())\n",
    "display(BA.head())\n",
    "display(LDP.info())\n",
    "display(LDP.head())"
   ]
  },
  {
   "cell_type": "code",
   "execution_count": 88,
   "metadata": {},
   "outputs": [],
   "source": [
    "t = np.arange(1, 19, 1)\n",
    "lg_y = BA['全国']\n",
    "\n",
    "logistic_params = leastsq(err_f, logistic_p0, args=(t, lg_y))"
   ]
  },
  {
   "cell_type": "code",
   "execution_count": 87,
   "metadata": {},
   "outputs": [
    {
     "data": {
      "text/plain": [
       "array([6.000000e+04, 2.597255e+04, 5.000000e+01])"
      ]
     },
     "execution_count": 87,
     "metadata": {},
     "output_type": "execute_result"
    }
   ],
   "source": [
    "pre = logistic_params[0]\n",
    "pre"
   ]
  },
  {
   "cell_type": "code",
   "execution_count": 85,
   "metadata": {},
   "outputs": [],
   "source": [
    "test = logistic_increase_function(pre, np.arange(20,100,1))"
   ]
  },
  {
   "cell_type": "code",
   "execution_count": 86,
   "metadata": {},
   "outputs": [
    {
     "data": {
      "text/plain": [
       "[<matplotlib.lines.Line2D at 0x21fbb616188>]"
      ]
     },
     "execution_count": 86,
     "metadata": {},
     "output_type": "execute_result"
    },
    {
     "data": {
      "image/png": "[encoded data removed]",
      "text/plain": [
       "<Figure size 432x288 with 1 Axes>"
      ]
     },
     "metadata": {
      "needs_background": "light"
     },
     "output_type": "display_data"
    }
   ],
   "source": [
    "plt.plot(test)"
   ]
  },
  {
   "cell_type": "code",
   "execution_count": 84,
   "metadata": {},
   "outputs": [
    {
     "data": {
      "text/plain": [
       "[<matplotlib.lines.Line2D at 0x21fba5d1c48>]"
      ]
     },
     "execution_count": 84,
     "metadata": {},
     "output_type": "execute_result"
    },
    {
     "data": {
      "image/png": "[encoded data removed]",
      "text/plain": [
       "<Figure size 432x288 with 1 Axes>"
      ]
     },
     "metadata": {
      "needs_background": "light"
     },
     "output_type": "display_data"
    }
   ],
   "source": [
    "plt.plot(lg_y)"
   ]
  },
  {
   "cell_type": "code",
   "execution_count": 73,
   "metadata": {},
   "outputs": [
    {
     "data": {
      "text/plain": [
       "173042.04"
      ]
     },
     "execution_count": 73,
     "metadata": {},
     "output_type": "execute_result"
    }
   ],
   "source": []
  },
  {
   "cell_type": "code",
   "execution_count": 163,
   "metadata": {},
   "outputs": [],
   "source": [
    "def logistic_increase_function(t,K,P0,r):\n",
    "    t0=1\n",
    "    r=0.09\n",
    "    # t:time   t0:initial time    P0:initial_value    K:capacity  r:increase_rate\n",
    "    exp_value=np.exp(r*(t-t0))\n",
    "    return (K*exp_value*P0)/(K+(exp_value-1)*P0)\n"
   ]
  },
  {
   "cell_type": "code",
   "execution_count": 164,
   "metadata": {},
   "outputs": [],
   "source": [
    "t = np.arange(1, 19, 1)\n",
    "P = BA['全国']"
   ]
  },
  {
   "cell_type": "code",
   "execution_count": 165,
   "metadata": {},
   "outputs": [
    {
     "name": "stdout",
     "output_type": "stream",
     "text": [
      "K:capacity  P0:initial_value   r:increase_rate   t:time\n",
      "[9.43839148e+04 2.60208470e+04 1.00000000e+00]\n"
     ]
    },
    {
     "name": "stderr",
     "output_type": "stream",
     "text": [
      "D:\\Anaconda\\lib\\site-packages\\scipy\\optimize\\minpack.py:808: OptimizeWarning: Covariance of the parameters could not be estimated\n",
      "  category=OptimizeWarning)\n"
     ]
    }
   ],
   "source": [
    "popt, pcov = curve_fit(logistic_increase_function, t, P)\n",
    "\n",
    "print(\"K:capacity  P0:initial_value   r:increase_rate   t:time\")\n",
    "print(popt)"
   ]
  },
  {
   "cell_type": "code",
   "execution_count": 166,
   "metadata": {},
   "outputs": [],
   "source": [
    "P_predict = logistic_increase_function(t,popt[0],popt[1],popt[2])"
   ]
  },
  {
   "cell_type": "code",
   "execution_count": 167,
   "metadata": {},
   "outputs": [],
   "source": [
    "future=np.arange(1, 100, 1)\n",
    "future_predict=logistic_increase_function(future,popt[0],popt[1],popt[2])\n"
   ]
  },
  {
   "cell_type": "code",
   "execution_count": 168,
   "metadata": {},
   "outputs": [
    {
     "data": {
      "image/png": "[encoded data removed]",
      "text/plain": [
       "<Figure size 432x288 with 1 Axes>"
      ]
     },
     "metadata": {
      "needs_background": "light"
     },
     "output_type": "display_data"
    }
   ],
   "source": [
    "plot2 = plt.plot(t, P_predict, 'r',label='polyfit values')\n",
    "plot3 = plt.plot(future, future_predict, 'r',label='polyfit values')\n",
    "plt.show()"
   ]
  },
  {
   "cell_type": "code",
   "execution_count": null,
   "metadata": {},
   "outputs": [],
   "source": []
  }
 ],
 "metadata": {
  "kernelspec": {
   "display_name": "Python 3",
   "language": "python",
   "name": "python3"
  },
  "language_info": {
   "codemirror_mode": {
    "name": "ipython",
    "version": 3
   },
   "file_extension": ".py",
   "mimetype": "text/x-python",
   "name": "python",
   "nbconvert_exporter": "python",
   "pygments_lexer": "ipython3",
   "version": "3.7.6"
  }
 },
 "nbformat": 4,
 "nbformat_minor": 4
}
