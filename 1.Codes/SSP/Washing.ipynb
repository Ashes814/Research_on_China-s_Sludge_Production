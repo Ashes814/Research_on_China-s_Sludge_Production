{
 "cells": [
  {
   "cell_type": "code",
   "execution_count": 1,
   "metadata": {},
   "outputs": [],
   "source": [
    "import numpy as np\n",
    "import pandas as pd\n",
    "import matplotlib.pyplot as plt"
   ]
  },
  {
   "cell_type": "code",
   "execution_count": 2,
   "metadata": {},
   "outputs": [],
   "source": [
    "def group_by_province(file) :\n",
    "    df = pd.read_csv(file, encoding = 'utf-8')\n",
    "    df = df.groupby('省').sum().reset_index().drop([0])\n",
    "    return df"
   ]
  },
  {
   "cell_type": "code",
   "execution_count": 3,
   "metadata": {},
   "outputs": [],
   "source": [
    "GDPSSP1 = group_by_province('GDPSSP1.csv')\n",
    "GDPSSP2 = group_by_province('GDPSSP2.csv')\n",
    "GDPSSP3 = group_by_province('GDPSSP3.csv')\n",
    "GDPSSP4 = group_by_province('GDPSSP4.csv')\n",
    "GDPSSP5 = group_by_province('GDPSSP5.csv')\n",
    "POPSSP1 = group_by_province('POPSSP1.csv')\n",
    "POPSSP2 = group_by_province('POPSSP2.csv')\n",
    "POPSSP3 = group_by_province('POPSSP3.csv')\n",
    "POPSSP4 = group_by_province('POPSSP4.csv')\n",
    "POPSSP5 = group_by_province('POPSSP5.csv')"
   ]
  },
  {
   "cell_type": "code",
   "execution_count": 4,
   "metadata": {},
   "outputs": [],
   "source": [
    "GDPSSP1.to_csv(\"PROGDPSSP1.csv\", encoding = 'utf_8_sig')\n",
    "GDPSSP2.to_csv(\"PROGDPSSP2.csv\", encoding = 'utf_8_sig')\n",
    "GDPSSP3.to_csv(\"PROGDPSSP3.csv\", encoding = 'utf_8_sig')\n",
    "GDPSSP4.to_csv(\"PROGDPSSP4.csv\", encoding = 'utf_8_sig')\n",
    "GDPSSP5.to_csv(\"PROGDPSSP5.csv\", encoding = 'utf_8_sig')\n",
    "POPSSP1.to_csv(\"PROPOPSSP1.csv\", encoding = 'utf_8_sig')\n",
    "POPSSP2.to_csv(\"PROPOPSSP2.csv\", encoding = 'utf_8_sig')\n",
    "POPSSP3.to_csv(\"PROPOPSSP3.csv\", encoding = 'utf_8_sig')\n",
    "POPSSP4.to_csv(\"PROPOPSSP4.csv\", encoding = 'utf_8_sig')\n",
    "POPSSP5.to_csv(\"PROPOPSSP5.csv\", encoding = 'utf_8_sig')"
   ]
  },
  {
   "cell_type": "code",
   "execution_count": 5,
   "metadata": {},
   "outputs": [],
   "source": [
    "def re_sp(frame) :\n",
    "    test = frame.T.drop(['FID', 'Join_Count', 'TARGET_FID', 'lon', 'lat', '省代码', '市代码'])\n",
    "    a = []\n",
    "    for p in test :\n",
    "        a.append(list(test[p]))\n",
    "    c = []\n",
    "    for b in a :\n",
    "        for d in b :\n",
    "            c.append(d)\n",
    "    df = pd.DataFrame(c)\n",
    "    return df"
   ]
  },
  {
   "cell_type": "code",
   "execution_count": 6,
   "metadata": {},
   "outputs": [],
   "source": [
    "GDP2 = re_sp(GDPSSP2)\n",
    "GDP3 = re_sp(GDPSSP3)\n",
    "GDP4 = re_sp(GDPSSP4)\n",
    "GDP5 = re_sp(GDPSSP5)\n",
    "POP1 = re_sp(POPSSP1)\n",
    "POP2 = re_sp(POPSSP2)\n",
    "POP3 = re_sp(POPSSP3)\n",
    "POP4 = re_sp(POPSSP4)\n",
    "POP5 = re_sp(POPSSP5)"
   ]
  },
  {
   "cell_type": "code",
   "execution_count": 7,
   "metadata": {},
   "outputs": [],
   "source": [
    "GDP2.to_csv(\"GDP2.csv\", encoding = 'utf_8_sig')"
   ]
  },
  {
   "cell_type": "code",
   "execution_count": 8,
   "metadata": {},
   "outputs": [],
   "source": [
    "GDP3.to_csv(\"GDP3.csv\", encoding = 'utf_8_sig')\n",
    "GDP4.to_csv(\"GDP4.csv\", encoding = 'utf_8_sig')\n",
    "GDP5.to_csv(\"GDP5.csv\", encoding = 'utf_8_sig')\n",
    "POP1.to_csv(\"POP1.csv\", encoding = 'utf_8_sig')\n",
    "POP2.to_csv(\"POP2.csv\", encoding = 'utf_8_sig')\n",
    "POP3.to_csv(\"POP3.csv\", encoding = 'utf_8_sig')\n",
    "POP4.to_csv(\"POP4.csv\", encoding = 'utf_8_sig')\n",
    "POP5.to_csv(\"POP5.csv\", encoding = 'utf_8_sig')"
   ]
  },
  {
   "cell_type": "code",
   "execution_count": null,
   "metadata": {},
   "outputs": [],
   "source": []
  }
 ],
 "metadata": {
  "kernelspec": {
   "display_name": "Python 3",
   "language": "python",
   "name": "python3"
  },
  "language_info": {
   "codemirror_mode": {
    "name": "ipython",
    "version": 3
   },
   "file_extension": ".py",
   "mimetype": "text/x-python",
   "name": "python",
   "nbconvert_exporter": "python",
   "pygments_lexer": "ipython3",
   "version": "3.7.6"
  }
 },
 "nbformat": 4,
 "nbformat_minor": 4
}
